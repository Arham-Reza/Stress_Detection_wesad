{
  "nbformat": 4,
  "nbformat_minor": 0,
  "metadata": {
    "colab": {
      "name": "Stress_Detection_S2.ipynb",
      "provenance": [],
      "include_colab_link": true
    },
    "kernelspec": {
      "name": "python3",
      "display_name": "Python 3"
    },
    "language_info": {
      "name": "python"
    }
  },
  "cells": [
    {
      "cell_type": "markdown",
      "metadata": {
        "id": "view-in-github",
        "colab_type": "text"
      },
      "source": [
        "<a href=\"https://colab.research.google.com/github/Arham-Reza/Stress_Detection_wesad/blob/main/Stress_Detection_S2.ipynb\" target=\"_parent\"><img src=\"https://colab.research.google.com/assets/colab-badge.svg\" alt=\"Open In Colab\"/></a>"
      ]
    },
    {
      "cell_type": "code",
      "execution_count": 1,
      "metadata": {
        "id": "-CuaqWXXWymT"
      },
      "outputs": [],
      "source": [
        "import tensorflow as tf\n",
        "import matplotlib.pyplot as plt\n",
        "import seaborn as sns\n",
        "import numpy as np\n",
        "import pandas as pd \n",
        "import seaborn as sns\n",
        "# Train-Test\n",
        "from sklearn.model_selection import train_test_split\n",
        "# Scaling data\n",
        "from sklearn.preprocessing import StandardScaler, LabelEncoder\n",
        "# Classification Report\n",
        "from sklearn.metrics import classification_report"
      ]
    },
    {
      "cell_type": "code",
      "source": [
        "from google.colab import drive\n",
        "drive.mount('/content/drive')"
      ],
      "metadata": {
        "id": "Hh_KqH8ZM9J_",
        "colab": {
          "base_uri": "https://localhost:8080/"
        },
        "outputId": "5bd8f154-e10d-4ecf-935e-2116a34a448d"
      },
      "execution_count": 3,
      "outputs": [
        {
          "output_type": "stream",
          "name": "stdout",
          "text": [
            "Mounted at /content/drive\n"
          ]
        }
      ]
    },
    {
      "cell_type": "code",
      "source": [
        "df=pd.read_csv('/content/drive/MyDrive/chest_data.csv')"
      ],
      "metadata": {
        "id": "TOpiszHByi_Z"
      },
      "execution_count": 5,
      "outputs": []
    },
    {
      "cell_type": "code",
      "source": [
        "df.head()"
      ],
      "metadata": {
        "colab": {
          "base_uri": "https://localhost:8080/",
          "height": 206
        },
        "id": "QG-TyBGlywOG",
        "outputId": "1ed31bb7-b3ec-427e-e9a2-5f96f63cf29b"
      },
      "execution_count": 6,
      "outputs": [
        {
          "output_type": "execute_result",
          "data": {
            "text/plain": [
              "   Unnamed: 0  chest_ax  chest_ay  chest_az  chest_ecg  chest_emg  chest_eda  \\\n",
              "0           0    0.9554   -0.2220   -0.5580   0.021423  -0.004440   5.250549   \n",
              "1           1    0.9258   -0.2216   -0.5538   0.020325   0.004349   5.267334   \n",
              "2           2    0.9082   -0.2196   -0.5392   0.016525   0.005173   5.243301   \n",
              "3           3    0.8974   -0.2102   -0.5122   0.016708   0.007187   5.249405   \n",
              "4           4    0.8882   -0.2036   -0.4824   0.011673  -0.015152   5.286407   \n",
              "\n",
              "   chest_temp  chest_resp  label  \n",
              "0   30.120758   -1.148987    0.0  \n",
              "1   30.129517   -1.124573    0.0  \n",
              "2   30.138214   -1.152039    0.0  \n",
              "3   30.129517   -1.158142    0.0  \n",
              "4   30.130951   -1.161194    0.0  "
            ],
            "text/html": [
              "\n",
              "  <div id=\"df-4e906ad4-3901-4756-a724-1a0cd5ac5b25\">\n",
              "    <div class=\"colab-df-container\">\n",
              "      <div>\n",
              "<style scoped>\n",
              "    .dataframe tbody tr th:only-of-type {\n",
              "        vertical-align: middle;\n",
              "    }\n",
              "\n",
              "    .dataframe tbody tr th {\n",
              "        vertical-align: top;\n",
              "    }\n",
              "\n",
              "    .dataframe thead th {\n",
              "        text-align: right;\n",
              "    }\n",
              "</style>\n",
              "<table border=\"1\" class=\"dataframe\">\n",
              "  <thead>\n",
              "    <tr style=\"text-align: right;\">\n",
              "      <th></th>\n",
              "      <th>Unnamed: 0</th>\n",
              "      <th>chest_ax</th>\n",
              "      <th>chest_ay</th>\n",
              "      <th>chest_az</th>\n",
              "      <th>chest_ecg</th>\n",
              "      <th>chest_emg</th>\n",
              "      <th>chest_eda</th>\n",
              "      <th>chest_temp</th>\n",
              "      <th>chest_resp</th>\n",
              "      <th>label</th>\n",
              "    </tr>\n",
              "  </thead>\n",
              "  <tbody>\n",
              "    <tr>\n",
              "      <th>0</th>\n",
              "      <td>0</td>\n",
              "      <td>0.9554</td>\n",
              "      <td>-0.2220</td>\n",
              "      <td>-0.5580</td>\n",
              "      <td>0.021423</td>\n",
              "      <td>-0.004440</td>\n",
              "      <td>5.250549</td>\n",
              "      <td>30.120758</td>\n",
              "      <td>-1.148987</td>\n",
              "      <td>0.0</td>\n",
              "    </tr>\n",
              "    <tr>\n",
              "      <th>1</th>\n",
              "      <td>1</td>\n",
              "      <td>0.9258</td>\n",
              "      <td>-0.2216</td>\n",
              "      <td>-0.5538</td>\n",
              "      <td>0.020325</td>\n",
              "      <td>0.004349</td>\n",
              "      <td>5.267334</td>\n",
              "      <td>30.129517</td>\n",
              "      <td>-1.124573</td>\n",
              "      <td>0.0</td>\n",
              "    </tr>\n",
              "    <tr>\n",
              "      <th>2</th>\n",
              "      <td>2</td>\n",
              "      <td>0.9082</td>\n",
              "      <td>-0.2196</td>\n",
              "      <td>-0.5392</td>\n",
              "      <td>0.016525</td>\n",
              "      <td>0.005173</td>\n",
              "      <td>5.243301</td>\n",
              "      <td>30.138214</td>\n",
              "      <td>-1.152039</td>\n",
              "      <td>0.0</td>\n",
              "    </tr>\n",
              "    <tr>\n",
              "      <th>3</th>\n",
              "      <td>3</td>\n",
              "      <td>0.8974</td>\n",
              "      <td>-0.2102</td>\n",
              "      <td>-0.5122</td>\n",
              "      <td>0.016708</td>\n",
              "      <td>0.007187</td>\n",
              "      <td>5.249405</td>\n",
              "      <td>30.129517</td>\n",
              "      <td>-1.158142</td>\n",
              "      <td>0.0</td>\n",
              "    </tr>\n",
              "    <tr>\n",
              "      <th>4</th>\n",
              "      <td>4</td>\n",
              "      <td>0.8882</td>\n",
              "      <td>-0.2036</td>\n",
              "      <td>-0.4824</td>\n",
              "      <td>0.011673</td>\n",
              "      <td>-0.015152</td>\n",
              "      <td>5.286407</td>\n",
              "      <td>30.130951</td>\n",
              "      <td>-1.161194</td>\n",
              "      <td>0.0</td>\n",
              "    </tr>\n",
              "  </tbody>\n",
              "</table>\n",
              "</div>\n",
              "      <button class=\"colab-df-convert\" onclick=\"convertToInteractive('df-4e906ad4-3901-4756-a724-1a0cd5ac5b25')\"\n",
              "              title=\"Convert this dataframe to an interactive table.\"\n",
              "              style=\"display:none;\">\n",
              "        \n",
              "  <svg xmlns=\"http://www.w3.org/2000/svg\" height=\"24px\"viewBox=\"0 0 24 24\"\n",
              "       width=\"24px\">\n",
              "    <path d=\"M0 0h24v24H0V0z\" fill=\"none\"/>\n",
              "    <path d=\"M18.56 5.44l.94 2.06.94-2.06 2.06-.94-2.06-.94-.94-2.06-.94 2.06-2.06.94zm-11 1L8.5 8.5l.94-2.06 2.06-.94-2.06-.94L8.5 2.5l-.94 2.06-2.06.94zm10 10l.94 2.06.94-2.06 2.06-.94-2.06-.94-.94-2.06-.94 2.06-2.06.94z\"/><path d=\"M17.41 7.96l-1.37-1.37c-.4-.4-.92-.59-1.43-.59-.52 0-1.04.2-1.43.59L10.3 9.45l-7.72 7.72c-.78.78-.78 2.05 0 2.83L4 21.41c.39.39.9.59 1.41.59.51 0 1.02-.2 1.41-.59l7.78-7.78 2.81-2.81c.8-.78.8-2.07 0-2.86zM5.41 20L4 18.59l7.72-7.72 1.47 1.35L5.41 20z\"/>\n",
              "  </svg>\n",
              "      </button>\n",
              "      \n",
              "  <style>\n",
              "    .colab-df-container {\n",
              "      display:flex;\n",
              "      flex-wrap:wrap;\n",
              "      gap: 12px;\n",
              "    }\n",
              "\n",
              "    .colab-df-convert {\n",
              "      background-color: #E8F0FE;\n",
              "      border: none;\n",
              "      border-radius: 50%;\n",
              "      cursor: pointer;\n",
              "      display: none;\n",
              "      fill: #1967D2;\n",
              "      height: 32px;\n",
              "      padding: 0 0 0 0;\n",
              "      width: 32px;\n",
              "    }\n",
              "\n",
              "    .colab-df-convert:hover {\n",
              "      background-color: #E2EBFA;\n",
              "      box-shadow: 0px 1px 2px rgba(60, 64, 67, 0.3), 0px 1px 3px 1px rgba(60, 64, 67, 0.15);\n",
              "      fill: #174EA6;\n",
              "    }\n",
              "\n",
              "    [theme=dark] .colab-df-convert {\n",
              "      background-color: #3B4455;\n",
              "      fill: #D2E3FC;\n",
              "    }\n",
              "\n",
              "    [theme=dark] .colab-df-convert:hover {\n",
              "      background-color: #434B5C;\n",
              "      box-shadow: 0px 1px 3px 1px rgba(0, 0, 0, 0.15);\n",
              "      filter: drop-shadow(0px 1px 2px rgba(0, 0, 0, 0.3));\n",
              "      fill: #FFFFFF;\n",
              "    }\n",
              "  </style>\n",
              "\n",
              "      <script>\n",
              "        const buttonEl =\n",
              "          document.querySelector('#df-4e906ad4-3901-4756-a724-1a0cd5ac5b25 button.colab-df-convert');\n",
              "        buttonEl.style.display =\n",
              "          google.colab.kernel.accessAllowed ? 'block' : 'none';\n",
              "\n",
              "        async function convertToInteractive(key) {\n",
              "          const element = document.querySelector('#df-4e906ad4-3901-4756-a724-1a0cd5ac5b25');\n",
              "          const dataTable =\n",
              "            await google.colab.kernel.invokeFunction('convertToInteractive',\n",
              "                                                     [key], {});\n",
              "          if (!dataTable) return;\n",
              "\n",
              "          const docLinkHtml = 'Like what you see? Visit the ' +\n",
              "            '<a target=\"_blank\" href=https://colab.research.google.com/notebooks/data_table.ipynb>data table notebook</a>'\n",
              "            + ' to learn more about interactive tables.';\n",
              "          element.innerHTML = '';\n",
              "          dataTable['output_type'] = 'display_data';\n",
              "          await google.colab.output.renderOutput(dataTable, element);\n",
              "          const docLink = document.createElement('div');\n",
              "          docLink.innerHTML = docLinkHtml;\n",
              "          element.appendChild(docLink);\n",
              "        }\n",
              "      </script>\n",
              "    </div>\n",
              "  </div>\n",
              "  "
            ]
          },
          "metadata": {},
          "execution_count": 6
        }
      ]
    },
    {
      "cell_type": "code",
      "source": [
        "df.drop('Unnamed: 0', axis=1, inplace=True)"
      ],
      "metadata": {
        "id": "G2m07O2LXkyV"
      },
      "execution_count": 7,
      "outputs": []
    },
    {
      "cell_type": "code",
      "source": [
        "df.shape"
      ],
      "metadata": {
        "colab": {
          "base_uri": "https://localhost:8080/"
        },
        "id": "XFB4Gg79Xua2",
        "outputId": "86d35c7a-8969-4784-9601-075d1c23c673"
      },
      "execution_count": 8,
      "outputs": [
        {
          "output_type": "execute_result",
          "data": {
            "text/plain": [
              "(4255300, 9)"
            ]
          },
          "metadata": {},
          "execution_count": 8
        }
      ]
    },
    {
      "cell_type": "code",
      "source": [
        "print(df.label.value_counts())"
      ],
      "metadata": {
        "id": "UMysk1GiX6FR",
        "colab": {
          "base_uri": "https://localhost:8080/"
        },
        "outputId": "8bec160e-d29d-4afc-f616-047ac3093d02"
      },
      "execution_count": 9,
      "outputs": [
        {
          "output_type": "stream",
          "name": "stdout",
          "text": [
            "0.0    2142701\n",
            "1.0     800800\n",
            "4.0     537599\n",
            "2.0     430500\n",
            "3.0     253400\n",
            "6.0      45500\n",
            "7.0      44800\n",
            "Name: label, dtype: int64\n"
          ]
        }
      ]
    },
    {
      "cell_type": "code",
      "source": [
        "df=df[(df.label != 0) & (df.label != 6) & (df.label !=7)]"
      ],
      "metadata": {
        "id": "dpjwcuQ-6Grd"
      },
      "execution_count": 10,
      "outputs": []
    },
    {
      "cell_type": "code",
      "source": [
        "df.shape"
      ],
      "metadata": {
        "colab": {
          "base_uri": "https://localhost:8080/"
        },
        "id": "kMQp676z6Qsk",
        "outputId": "e57e9a77-40cc-4ec4-ceb8-4328878b13d8"
      },
      "execution_count": 11,
      "outputs": [
        {
          "output_type": "execute_result",
          "data": {
            "text/plain": [
              "(2022299, 9)"
            ]
          },
          "metadata": {},
          "execution_count": 11
        }
      ]
    },
    {
      "cell_type": "code",
      "source": [
        "print(df.label.value_counts())"
      ],
      "metadata": {
        "colab": {
          "base_uri": "https://localhost:8080/"
        },
        "id": "inR8x2Pu6Xsz",
        "outputId": "b84f77fb-7b3a-4566-8b2c-597c80f062f3"
      },
      "execution_count": 12,
      "outputs": [
        {
          "output_type": "stream",
          "name": "stdout",
          "text": [
            "1.0    800800\n",
            "4.0    537599\n",
            "2.0    430500\n",
            "3.0    253400\n",
            "Name: label, dtype: int64\n"
          ]
        }
      ]
    },
    {
      "cell_type": "code",
      "source": [
        "label_encoder = LabelEncoder()\n",
        "\n",
        "encoded_labels = label_encoder.fit_transform(df['label'])\n",
        "\n",
        "np.unique(encoded_labels)"
      ],
      "metadata": {
        "colab": {
          "base_uri": "https://localhost:8080/"
        },
        "id": "rc-2v7UyGfWl",
        "outputId": "f0d22bb6-3d1a-4520-dfa1-b11caf5bb610"
      },
      "execution_count": 14,
      "outputs": [
        {
          "output_type": "execute_result",
          "data": {
            "text/plain": [
              "array([0, 1, 2, 3])"
            ]
          },
          "metadata": {},
          "execution_count": 14
        }
      ]
    },
    {
      "cell_type": "code",
      "source": [
        "df['label'] = encoded_labels"
      ],
      "metadata": {
        "id": "uzIxwhy9HOI8"
      },
      "execution_count": 15,
      "outputs": []
    },
    {
      "cell_type": "code",
      "source": [
        "df['label'].value_counts()"
      ],
      "metadata": {
        "colab": {
          "base_uri": "https://localhost:8080/"
        },
        "id": "Mj1iZ622HTZj",
        "outputId": "ef8ed2f3-1d98-4e22-a2b8-fab2f3dcb57a"
      },
      "execution_count": 16,
      "outputs": [
        {
          "output_type": "execute_result",
          "data": {
            "text/plain": [
              "0    800800\n",
              "3    537599\n",
              "1    430500\n",
              "2    253400\n",
              "Name: label, dtype: int64"
            ]
          },
          "metadata": {},
          "execution_count": 16
        }
      ]
    },
    {
      "cell_type": "code",
      "source": [
        "df.describe()"
      ],
      "metadata": {
        "colab": {
          "base_uri": "https://localhost:8080/",
          "height": 300
        },
        "id": "jDeCDfad6llH",
        "outputId": "c9e563bc-2d36-485a-ff4c-e0f4f4218941"
      },
      "execution_count": 17,
      "outputs": [
        {
          "output_type": "execute_result",
          "data": {
            "text/plain": [
              "           chest_ax      chest_ay      chest_az     chest_ecg     chest_emg  \\\n",
              "count  2.022299e+06  2.022299e+06  2.022299e+06  2.022299e+06  2.022299e+06   \n",
              "mean   6.905893e-01 -1.254201e-01 -5.541978e-01  1.189813e-03 -2.410597e-03   \n",
              "std    1.585121e-01  5.674518e-02  2.676459e-01  1.364764e-01  9.685848e-03   \n",
              "min    3.116000e-01 -4.194000e-01 -1.004000e+00 -1.499405e+00 -2.458191e-01   \n",
              "25%    6.046000e-01 -1.446000e-01 -7.346000e-01 -6.037903e-02 -7.553101e-03   \n",
              "50%    6.286000e-01 -1.240000e-01 -7.094000e-01  1.199341e-02 -1.556396e-03   \n",
              "75%    8.760000e-01 -7.340002e-02 -2.814000e-01  4.618835e-02  3.295898e-03   \n",
              "max    1.380600e+00  2.024000e-01  1.041800e+00  1.415726e+00  1.978912e-01   \n",
              "\n",
              "          chest_eda    chest_temp    chest_resp         label  \n",
              "count  2.022299e+06  2.022299e+06  2.022299e+06  2.022299e+06  \n",
              "mean   1.477928e+00  3.056060e+01  5.047145e-02  1.260989e+00  \n",
              "std    9.621079e-01  1.592403e+00  2.229207e+00  1.231469e+00  \n",
              "min    2.632141e-01  2.804526e+01 -2.019653e+01  0.000000e+00  \n",
              "25%    7.904053e-01  2.856464e+01 -1.321411e+00  0.000000e+00  \n",
              "50%    1.216888e+00  3.127814e+01 -1.724243e-01  1.000000e+00  \n",
              "75%    1.777267e+00  3.193958e+01  1.438904e+00  3.000000e+00  \n",
              "max    5.756760e+00  3.437039e+01  1.927032e+01  3.000000e+00  "
            ],
            "text/html": [
              "\n",
              "  <div id=\"df-780f1a0e-97b5-479b-8387-d586eaae2aac\">\n",
              "    <div class=\"colab-df-container\">\n",
              "      <div>\n",
              "<style scoped>\n",
              "    .dataframe tbody tr th:only-of-type {\n",
              "        vertical-align: middle;\n",
              "    }\n",
              "\n",
              "    .dataframe tbody tr th {\n",
              "        vertical-align: top;\n",
              "    }\n",
              "\n",
              "    .dataframe thead th {\n",
              "        text-align: right;\n",
              "    }\n",
              "</style>\n",
              "<table border=\"1\" class=\"dataframe\">\n",
              "  <thead>\n",
              "    <tr style=\"text-align: right;\">\n",
              "      <th></th>\n",
              "      <th>chest_ax</th>\n",
              "      <th>chest_ay</th>\n",
              "      <th>chest_az</th>\n",
              "      <th>chest_ecg</th>\n",
              "      <th>chest_emg</th>\n",
              "      <th>chest_eda</th>\n",
              "      <th>chest_temp</th>\n",
              "      <th>chest_resp</th>\n",
              "      <th>label</th>\n",
              "    </tr>\n",
              "  </thead>\n",
              "  <tbody>\n",
              "    <tr>\n",
              "      <th>count</th>\n",
              "      <td>2.022299e+06</td>\n",
              "      <td>2.022299e+06</td>\n",
              "      <td>2.022299e+06</td>\n",
              "      <td>2.022299e+06</td>\n",
              "      <td>2.022299e+06</td>\n",
              "      <td>2.022299e+06</td>\n",
              "      <td>2.022299e+06</td>\n",
              "      <td>2.022299e+06</td>\n",
              "      <td>2.022299e+06</td>\n",
              "    </tr>\n",
              "    <tr>\n",
              "      <th>mean</th>\n",
              "      <td>6.905893e-01</td>\n",
              "      <td>-1.254201e-01</td>\n",
              "      <td>-5.541978e-01</td>\n",
              "      <td>1.189813e-03</td>\n",
              "      <td>-2.410597e-03</td>\n",
              "      <td>1.477928e+00</td>\n",
              "      <td>3.056060e+01</td>\n",
              "      <td>5.047145e-02</td>\n",
              "      <td>1.260989e+00</td>\n",
              "    </tr>\n",
              "    <tr>\n",
              "      <th>std</th>\n",
              "      <td>1.585121e-01</td>\n",
              "      <td>5.674518e-02</td>\n",
              "      <td>2.676459e-01</td>\n",
              "      <td>1.364764e-01</td>\n",
              "      <td>9.685848e-03</td>\n",
              "      <td>9.621079e-01</td>\n",
              "      <td>1.592403e+00</td>\n",
              "      <td>2.229207e+00</td>\n",
              "      <td>1.231469e+00</td>\n",
              "    </tr>\n",
              "    <tr>\n",
              "      <th>min</th>\n",
              "      <td>3.116000e-01</td>\n",
              "      <td>-4.194000e-01</td>\n",
              "      <td>-1.004000e+00</td>\n",
              "      <td>-1.499405e+00</td>\n",
              "      <td>-2.458191e-01</td>\n",
              "      <td>2.632141e-01</td>\n",
              "      <td>2.804526e+01</td>\n",
              "      <td>-2.019653e+01</td>\n",
              "      <td>0.000000e+00</td>\n",
              "    </tr>\n",
              "    <tr>\n",
              "      <th>25%</th>\n",
              "      <td>6.046000e-01</td>\n",
              "      <td>-1.446000e-01</td>\n",
              "      <td>-7.346000e-01</td>\n",
              "      <td>-6.037903e-02</td>\n",
              "      <td>-7.553101e-03</td>\n",
              "      <td>7.904053e-01</td>\n",
              "      <td>2.856464e+01</td>\n",
              "      <td>-1.321411e+00</td>\n",
              "      <td>0.000000e+00</td>\n",
              "    </tr>\n",
              "    <tr>\n",
              "      <th>50%</th>\n",
              "      <td>6.286000e-01</td>\n",
              "      <td>-1.240000e-01</td>\n",
              "      <td>-7.094000e-01</td>\n",
              "      <td>1.199341e-02</td>\n",
              "      <td>-1.556396e-03</td>\n",
              "      <td>1.216888e+00</td>\n",
              "      <td>3.127814e+01</td>\n",
              "      <td>-1.724243e-01</td>\n",
              "      <td>1.000000e+00</td>\n",
              "    </tr>\n",
              "    <tr>\n",
              "      <th>75%</th>\n",
              "      <td>8.760000e-01</td>\n",
              "      <td>-7.340002e-02</td>\n",
              "      <td>-2.814000e-01</td>\n",
              "      <td>4.618835e-02</td>\n",
              "      <td>3.295898e-03</td>\n",
              "      <td>1.777267e+00</td>\n",
              "      <td>3.193958e+01</td>\n",
              "      <td>1.438904e+00</td>\n",
              "      <td>3.000000e+00</td>\n",
              "    </tr>\n",
              "    <tr>\n",
              "      <th>max</th>\n",
              "      <td>1.380600e+00</td>\n",
              "      <td>2.024000e-01</td>\n",
              "      <td>1.041800e+00</td>\n",
              "      <td>1.415726e+00</td>\n",
              "      <td>1.978912e-01</td>\n",
              "      <td>5.756760e+00</td>\n",
              "      <td>3.437039e+01</td>\n",
              "      <td>1.927032e+01</td>\n",
              "      <td>3.000000e+00</td>\n",
              "    </tr>\n",
              "  </tbody>\n",
              "</table>\n",
              "</div>\n",
              "      <button class=\"colab-df-convert\" onclick=\"convertToInteractive('df-780f1a0e-97b5-479b-8387-d586eaae2aac')\"\n",
              "              title=\"Convert this dataframe to an interactive table.\"\n",
              "              style=\"display:none;\">\n",
              "        \n",
              "  <svg xmlns=\"http://www.w3.org/2000/svg\" height=\"24px\"viewBox=\"0 0 24 24\"\n",
              "       width=\"24px\">\n",
              "    <path d=\"M0 0h24v24H0V0z\" fill=\"none\"/>\n",
              "    <path d=\"M18.56 5.44l.94 2.06.94-2.06 2.06-.94-2.06-.94-.94-2.06-.94 2.06-2.06.94zm-11 1L8.5 8.5l.94-2.06 2.06-.94-2.06-.94L8.5 2.5l-.94 2.06-2.06.94zm10 10l.94 2.06.94-2.06 2.06-.94-2.06-.94-.94-2.06-.94 2.06-2.06.94z\"/><path d=\"M17.41 7.96l-1.37-1.37c-.4-.4-.92-.59-1.43-.59-.52 0-1.04.2-1.43.59L10.3 9.45l-7.72 7.72c-.78.78-.78 2.05 0 2.83L4 21.41c.39.39.9.59 1.41.59.51 0 1.02-.2 1.41-.59l7.78-7.78 2.81-2.81c.8-.78.8-2.07 0-2.86zM5.41 20L4 18.59l7.72-7.72 1.47 1.35L5.41 20z\"/>\n",
              "  </svg>\n",
              "      </button>\n",
              "      \n",
              "  <style>\n",
              "    .colab-df-container {\n",
              "      display:flex;\n",
              "      flex-wrap:wrap;\n",
              "      gap: 12px;\n",
              "    }\n",
              "\n",
              "    .colab-df-convert {\n",
              "      background-color: #E8F0FE;\n",
              "      border: none;\n",
              "      border-radius: 50%;\n",
              "      cursor: pointer;\n",
              "      display: none;\n",
              "      fill: #1967D2;\n",
              "      height: 32px;\n",
              "      padding: 0 0 0 0;\n",
              "      width: 32px;\n",
              "    }\n",
              "\n",
              "    .colab-df-convert:hover {\n",
              "      background-color: #E2EBFA;\n",
              "      box-shadow: 0px 1px 2px rgba(60, 64, 67, 0.3), 0px 1px 3px 1px rgba(60, 64, 67, 0.15);\n",
              "      fill: #174EA6;\n",
              "    }\n",
              "\n",
              "    [theme=dark] .colab-df-convert {\n",
              "      background-color: #3B4455;\n",
              "      fill: #D2E3FC;\n",
              "    }\n",
              "\n",
              "    [theme=dark] .colab-df-convert:hover {\n",
              "      background-color: #434B5C;\n",
              "      box-shadow: 0px 1px 3px 1px rgba(0, 0, 0, 0.15);\n",
              "      filter: drop-shadow(0px 1px 2px rgba(0, 0, 0, 0.3));\n",
              "      fill: #FFFFFF;\n",
              "    }\n",
              "  </style>\n",
              "\n",
              "      <script>\n",
              "        const buttonEl =\n",
              "          document.querySelector('#df-780f1a0e-97b5-479b-8387-d586eaae2aac button.colab-df-convert');\n",
              "        buttonEl.style.display =\n",
              "          google.colab.kernel.accessAllowed ? 'block' : 'none';\n",
              "\n",
              "        async function convertToInteractive(key) {\n",
              "          const element = document.querySelector('#df-780f1a0e-97b5-479b-8387-d586eaae2aac');\n",
              "          const dataTable =\n",
              "            await google.colab.kernel.invokeFunction('convertToInteractive',\n",
              "                                                     [key], {});\n",
              "          if (!dataTable) return;\n",
              "\n",
              "          const docLinkHtml = 'Like what you see? Visit the ' +\n",
              "            '<a target=\"_blank\" href=https://colab.research.google.com/notebooks/data_table.ipynb>data table notebook</a>'\n",
              "            + ' to learn more about interactive tables.';\n",
              "          element.innerHTML = '';\n",
              "          dataTable['output_type'] = 'display_data';\n",
              "          await google.colab.output.renderOutput(dataTable, element);\n",
              "          const docLink = document.createElement('div');\n",
              "          docLink.innerHTML = docLinkHtml;\n",
              "          element.appendChild(docLink);\n",
              "        }\n",
              "      </script>\n",
              "    </div>\n",
              "  </div>\n",
              "  "
            ]
          },
          "metadata": {},
          "execution_count": 17
        }
      ]
    },
    {
      "cell_type": "code",
      "source": [
        "x = df.drop(\"label\", axis = 1)\n",
        "sc = StandardScaler()\n",
        "x = pd.DataFrame(sc.fit_transform(x))\n",
        "y = df[\"label\"]"
      ],
      "metadata": {
        "id": "fimGWqAn6vsc"
      },
      "execution_count": 18,
      "outputs": []
    },
    {
      "cell_type": "code",
      "source": [
        "x_train, x_test, y_train, y_test = train_test_split(x, y, test_size=0.2, random_state=42)"
      ],
      "metadata": {
        "id": "apithoT0801i"
      },
      "execution_count": 19,
      "outputs": []
    },
    {
      "cell_type": "code",
      "source": [
        "print(\"Shape of training dataset : \", x_train.shape)\n",
        "print(\"Shape of testing dataset : \" , x_test.shape)"
      ],
      "metadata": {
        "colab": {
          "base_uri": "https://localhost:8080/"
        },
        "id": "bh_CKNGl-cyL",
        "outputId": "db26b362-6c45-46ee-b16e-0fc25e18f85e"
      },
      "execution_count": 20,
      "outputs": [
        {
          "output_type": "stream",
          "name": "stdout",
          "text": [
            "Shape of training dataset :  (1617839, 8)\n",
            "Shape of testing dataset :  (404460, 8)\n"
          ]
        }
      ]
    },
    {
      "cell_type": "code",
      "source": [
        "model=tf.keras.Sequential([\n",
        "                        tf.keras.layers.Dense(60, input_shape = (8,), activation = \"relu\"),\n",
        "                        tf.keras.layers.Dense(15, activation = \"relu\"),\n",
        "                        tf.keras.layers.Dropout(0.2),\n",
        "                        tf.keras.layers.Dense(4, activation = \"softmax\")\n",
        "                         \n",
        "])"
      ],
      "metadata": {
        "id": "ZnyFqIMS_iNK"
      },
      "execution_count": 21,
      "outputs": []
    },
    {
      "cell_type": "code",
      "source": [
        "model.compile(optimizer=tf.keras.optimizers.Adam(learning_rate=1e-3),\n",
        "             loss=tf.keras.losses.SparseCategoricalCrossentropy(),\n",
        "             metrics=['accuracy'])"
      ],
      "metadata": {
        "id": "DMMHlolkALa2"
      },
      "execution_count": 22,
      "outputs": []
    },
    {
      "cell_type": "code",
      "source": [
        "model.fit(x_train, y_train, validation_split=0.1, verbose=1, epochs=10)"
      ],
      "metadata": {
        "colab": {
          "base_uri": "https://localhost:8080/"
        },
        "id": "Tc7IycZGDYW8",
        "outputId": "9f9030cf-589a-4f49-9546-518d519ee7d3"
      },
      "execution_count": 23,
      "outputs": [
        {
          "output_type": "stream",
          "name": "stdout",
          "text": [
            "Epoch 1/10\n",
            "45502/45502 [==============================] - 94s 2ms/step - loss: 0.0086 - accuracy: 0.9975 - val_loss: 1.3411e-04 - val_accuracy: 1.0000\n",
            "Epoch 2/10\n",
            "45502/45502 [==============================] - 90s 2ms/step - loss: 0.0021 - accuracy: 0.9993 - val_loss: 7.3635e-05 - val_accuracy: 1.0000\n",
            "Epoch 3/10\n",
            "45502/45502 [==============================] - 93s 2ms/step - loss: 0.0014 - accuracy: 0.9995 - val_loss: 2.7740e-05 - val_accuracy: 1.0000\n",
            "Epoch 4/10\n",
            "45502/45502 [==============================] - 88s 2ms/step - loss: 0.0012 - accuracy: 0.9996 - val_loss: 2.8936e-04 - val_accuracy: 1.0000\n",
            "Epoch 5/10\n",
            "45502/45502 [==============================] - 95s 2ms/step - loss: 0.0011 - accuracy: 0.9997 - val_loss: 1.2490e-04 - val_accuracy: 1.0000\n",
            "Epoch 6/10\n",
            "45502/45502 [==============================] - 93s 2ms/step - loss: 0.0011 - accuracy: 0.9997 - val_loss: 2.6905e-04 - val_accuracy: 1.0000\n",
            "Epoch 7/10\n",
            "45502/45502 [==============================] - 89s 2ms/step - loss: 0.0010 - accuracy: 0.9998 - val_loss: 2.4466e-05 - val_accuracy: 1.0000\n",
            "Epoch 8/10\n",
            "45502/45502 [==============================] - 93s 2ms/step - loss: 0.0010 - accuracy: 0.9997 - val_loss: 3.7014e-04 - val_accuracy: 1.0000\n",
            "Epoch 9/10\n",
            "45502/45502 [==============================] - 92s 2ms/step - loss: 0.0010 - accuracy: 0.9997 - val_loss: 5.6901e-05 - val_accuracy: 1.0000\n",
            "Epoch 10/10\n",
            "45502/45502 [==============================] - 90s 2ms/step - loss: 0.0011 - accuracy: 0.9998 - val_loss: 1.1864e-04 - val_accuracy: 1.0000\n"
          ]
        },
        {
          "output_type": "execute_result",
          "data": {
            "text/plain": [
              "<keras.callbacks.History at 0x7f3346ffc810>"
            ]
          },
          "metadata": {},
          "execution_count": 23
        }
      ]
    },
    {
      "cell_type": "code",
      "source": [
        "evaluation_results = model.evaluate(x_test, y_test)\n",
        "\n",
        "print(f'Performance on test set\\nLoss: {evaluation_results[0]}\\tAccuaracy: {evaluation_results[1]}')"
      ],
      "metadata": {
        "colab": {
          "base_uri": "https://localhost:8080/"
        },
        "id": "mRWC9mOoHvzk",
        "outputId": "ad29174b-3d10-4715-b0a9-f8f27fb1939a"
      },
      "execution_count": 24,
      "outputs": [
        {
          "output_type": "stream",
          "name": "stdout",
          "text": [
            "12640/12640 [==============================] - 18s 1ms/step - loss: 2.1457e-04 - accuracy: 1.0000\n",
            "Performance on test set\n",
            "Loss: 0.000214570842217654\tAccuaracy: 0.9999629259109497\n"
          ]
        }
      ]
    },
    {
      "cell_type": "code",
      "source": [
        "test_pred = model.predict(x_test)\n",
        "test_pred.shape"
      ],
      "metadata": {
        "colab": {
          "base_uri": "https://localhost:8080/"
        },
        "id": "y4bZ3LFeJAgJ",
        "outputId": "407af9cb-0720-4ef3-bd49-e5452dc2a4d2"
      },
      "execution_count": 25,
      "outputs": [
        {
          "output_type": "execute_result",
          "data": {
            "text/plain": [
              "(404460, 4)"
            ]
          },
          "metadata": {},
          "execution_count": 25
        }
      ]
    },
    {
      "cell_type": "code",
      "source": [
        "test_pred"
      ],
      "metadata": {
        "colab": {
          "base_uri": "https://localhost:8080/"
        },
        "id": "i9yD3THfJcZ-",
        "outputId": "775ad1f6-78c2-481c-9e27-04a729438eef"
      },
      "execution_count": 26,
      "outputs": [
        {
          "output_type": "execute_result",
          "data": {
            "text/plain": [
              "array([[1.000000e+00, 0.000000e+00, 0.000000e+00, 0.000000e+00],\n",
              "       [1.000000e+00, 0.000000e+00, 0.000000e+00, 0.000000e+00],\n",
              "       [3.330241e-08, 0.000000e+00, 1.000000e+00, 0.000000e+00],\n",
              "       ...,\n",
              "       [0.000000e+00, 0.000000e+00, 0.000000e+00, 1.000000e+00],\n",
              "       [1.000000e+00, 0.000000e+00, 0.000000e+00, 0.000000e+00],\n",
              "       [1.000000e+00, 0.000000e+00, 0.000000e+00, 0.000000e+00]],\n",
              "      dtype=float32)"
            ]
          },
          "metadata": {},
          "execution_count": 26
        }
      ]
    },
    {
      "cell_type": "code",
      "source": [
        "y_pred = np.argmax(test_pred, axis = 1)\n",
        "y_pred.shape"
      ],
      "metadata": {
        "colab": {
          "base_uri": "https://localhost:8080/"
        },
        "id": "LcbQoPu9JQnr",
        "outputId": "8254df34-2707-4c83-f7d8-ba65504f0031"
      },
      "execution_count": 27,
      "outputs": [
        {
          "output_type": "execute_result",
          "data": {
            "text/plain": [
              "(404460,)"
            ]
          },
          "metadata": {},
          "execution_count": 27
        }
      ]
    },
    {
      "cell_type": "code",
      "source": [
        "y_pred"
      ],
      "metadata": {
        "colab": {
          "base_uri": "https://localhost:8080/"
        },
        "id": "9oojZbJhJjRh",
        "outputId": "5d376f97-3ef4-4ab6-9af2-c75776ed6453"
      },
      "execution_count": 28,
      "outputs": [
        {
          "output_type": "execute_result",
          "data": {
            "text/plain": [
              "array([0, 0, 2, ..., 3, 0, 0])"
            ]
          },
          "metadata": {},
          "execution_count": 28
        }
      ]
    },
    {
      "cell_type": "code",
      "source": [
        "print(classification_report(y_test, y_pred))"
      ],
      "metadata": {
        "colab": {
          "base_uri": "https://localhost:8080/"
        },
        "id": "RkMuaGUBJkjg",
        "outputId": "ebcd85ca-7807-4d1e-add5-155e613b9cd6"
      },
      "execution_count": 29,
      "outputs": [
        {
          "output_type": "stream",
          "name": "stdout",
          "text": [
            "              precision    recall  f1-score   support\n",
            "\n",
            "           0       1.00      1.00      1.00    160051\n",
            "           1       1.00      1.00      1.00     85958\n",
            "           2       1.00      1.00      1.00     50748\n",
            "           3       1.00      1.00      1.00    107703\n",
            "\n",
            "    accuracy                           1.00    404460\n",
            "   macro avg       1.00      1.00      1.00    404460\n",
            "weighted avg       1.00      1.00      1.00    404460\n",
            "\n"
          ]
        }
      ]
    },
    {
      "cell_type": "code",
      "source": [
        ""
      ],
      "metadata": {
        "id": "H3q-8fC_JpaY"
      },
      "execution_count": null,
      "outputs": []
    }
  ]
}